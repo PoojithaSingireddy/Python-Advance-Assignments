{
  "nbformat": 4,
  "nbformat_minor": 0,
  "metadata": {
    "colab": {
      "name": "Python Advance Assignment7.ipynb",
      "provenance": [],
      "collapsed_sections": []
    },
    "kernelspec": {
      "name": "python3",
      "display_name": "Python 3"
    },
    "language_info": {
      "name": "python"
    }
  },
  "cells": [
    {
      "cell_type": "markdown",
      "source": [
        "Q1. What is the purpose of the try statement?\n",
        "\n",
        "Try statement is used to trigger exception. If code in try block causes some run time error, then try will throw an exception. Exception is caught by except block.\n",
        "\n",
        "Q2. What are the two most popular try statement variations?\n",
        "\n",
        "IOError – It occurs on errors like a file fails to open. ImportError – If a python module can’t be loaded or located. KeyboardInterrupt : when an unrequired key is pressed by the user ValueError : when built-in function receives a wrong argument EOFError : if End-Of-File is hit without reading any data\n",
        "\n",
        "How try() works?\n",
        "\n",
        "First, try clause is executed i.e. the code between try and except clause. If there is no exception, then only try clause will run, except clause is finished. If any exception occured, try clause will be skipped and except clause will run. If any exception occurs, but the except clause within the code doesn’t handle it, it is passed on to the outer try statements. If the exception left unhandled, then the execution stops. A try statement can have more than one except clause\n",
        "\n",
        "Q3. What is the purpose of the raise statement?\n",
        "\n",
        "Raise statement is used to raise an exception. You can define what kind of error to raise.\n",
        "\n",
        "Q4. What does the assert statement do, and what other statement is it like?\n",
        "\n",
        "The assert statement lets you test if a condition in your code returns True, if not, the program will raise an AssertionError. It is like raise statement, where we can create our custom exceptions."
      ],
      "metadata": {
        "id": "cmqxCmhwwSUA"
      }
    },
    {
      "cell_type": "code",
      "execution_count": 1,
      "metadata": {
        "colab": {
          "base_uri": "https://localhost:8080/",
          "height": 200
        },
        "id": "F0vP3cprv8sE",
        "outputId": "e788919c-df8e-4ecb-d688-3c91006944b1"
      },
      "outputs": [
        {
          "output_type": "error",
          "ename": "AssertionError",
          "evalue": "ignored",
          "traceback": [
            "\u001b[0;31m---------------------------------------------------------------------------\u001b[0m",
            "\u001b[0;31mAssertionError\u001b[0m                            Traceback (most recent call last)",
            "\u001b[0;32m<ipython-input-1-d0fd9cf586ee>\u001b[0m in \u001b[0;36m<module>\u001b[0;34m()\u001b[0m\n\u001b[1;32m      1\u001b[0m \u001b[0mx\u001b[0m \u001b[0;34m=\u001b[0m \u001b[0;36m0\u001b[0m\u001b[0;34m\u001b[0m\u001b[0;34m\u001b[0m\u001b[0m\n\u001b[0;32m----> 2\u001b[0;31m \u001b[0;32massert\u001b[0m  \u001b[0mx\u001b[0m \u001b[0;34m>\u001b[0m \u001b[0;36m0\u001b[0m\u001b[0;34m,\u001b[0m \u001b[0;34m\"x must be >o\"\u001b[0m\u001b[0;34m\u001b[0m\u001b[0;34m\u001b[0m\u001b[0m\n\u001b[0m\u001b[1;32m      3\u001b[0m \u001b[0mprint\u001b[0m\u001b[0;34m(\u001b[0m\u001b[0;34m\"even\"\u001b[0m\u001b[0;34m)\u001b[0m\u001b[0;34m\u001b[0m\u001b[0;34m\u001b[0m\u001b[0m\n",
            "\u001b[0;31mAssertionError\u001b[0m: x must be >o"
          ]
        }
      ],
      "source": [
        "x = 0\n",
        "assert  x > 0, \"x must be >o\"\n",
        "print(\"even\")"
      ]
    },
    {
      "cell_type": "markdown",
      "source": [
        "Q5. What is the purpose of the with/as argument, and what other statement is it like?\n",
        "\n",
        "With statement in Python is used in exception handling to make the code cleaner and much more readable. It simplifies the management of common resources like file streams. The with statement itself ensures proper acquisition and release of resources. This allows common try…except…finally usage patterns to be encapsulated for convenient reuse.\n",
        "\n",
        "when \"as\" is used after \"with\", it will reassign the the returned object to a new identifier."
      ],
      "metadata": {
        "id": "CLiLg5J2wqNz"
      }
    },
    {
      "cell_type": "code",
      "source": [
        ""
      ],
      "metadata": {
        "id": "ZVwJOQMKwkpz"
      },
      "execution_count": null,
      "outputs": []
    }
  ]
}
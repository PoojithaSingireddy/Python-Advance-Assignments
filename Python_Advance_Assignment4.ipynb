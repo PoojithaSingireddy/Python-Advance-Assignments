{
  "nbformat": 4,
  "nbformat_minor": 0,
  "metadata": {
    "colab": {
      "name": "Python Advance Assignment4.ipynb",
      "provenance": [],
      "collapsed_sections": []
    },
    "kernelspec": {
      "name": "python3",
      "display_name": "Python 3"
    },
    "language_info": {
      "name": "python"
    }
  },
  "cells": [
    {
      "cell_type": "markdown",
      "source": [
        "Q1. Which two operator overloading methods can you use in your classes to support iteration?\n",
        "\n",
        "add() and mul() methods can be used for both integers and string data objects. String is iterable object. When two strings are passed to + operator, it will return concatenated string. When * (number) is preceeded by string, then that string is repeated those many number of time"
      ],
      "metadata": {
        "id": "6d18d3yzc9MG"
      }
    },
    {
      "cell_type": "markdown",
      "source": [
        "Q2. In what contexts do the two operator overloading methods manage printing?\n",
        "\n",
        "It depends on the input parameter result is printed. Example, If both inputs are string function will print string output."
      ],
      "metadata": {
        "id": "346igbaye87a"
      }
    },
    {
      "cell_type": "markdown",
      "source": [
        "Q3. In a class, how do you intercept slice operations?"
      ],
      "metadata": {
        "id": "oXsN5QFufCqY"
      }
    },
    {
      "cell_type": "code",
      "execution_count": 2,
      "metadata": {
        "colab": {
          "base_uri": "https://localhost:8080/"
        },
        "id": "PZ5OKsZzc8cI",
        "outputId": "59aa082d-3e8f-4ad7-f003-17efb9fcc8a9"
      },
      "outputs": [
        {
          "output_type": "stream",
          "name": "stdout",
          "text": [
            "         4 function calls in 0.000 seconds\n",
            "\n",
            "   Ordered by: standard name\n",
            "\n",
            "   ncalls  tottime  percall  cumtime  percall filename:lineno(function)\n",
            "        1    0.000    0.000    0.000    0.000 :0(exec)\n",
            "        1    0.000    0.000    0.000    0.000 :0(setprofile)\n",
            "        1    0.000    0.000    0.000    0.000 <string>:1(<module>)\n",
            "        1    0.000    0.000    0.000    0.000 profile:0(l2[3:] = [5])\n",
            "        0    0.000             0.000          profile:0(profiler)\n",
            "\n",
            "\n",
            "         4 function calls in 0.000 seconds\n",
            "\n",
            "   Ordered by: standard name\n",
            "\n",
            "   ncalls  tottime  percall  cumtime  percall filename:lineno(function)\n",
            "        1    0.000    0.000    0.000    0.000 :0(exec)\n",
            "        1    0.000    0.000    0.000    0.000 :0(setprofile)\n",
            "        1    0.000    0.000    0.000    0.000 <string>:1(<module>)\n",
            "        1    0.000    0.000    0.000    0.000 profile:0(l2[2:6] = [12,4])\n",
            "        0    0.000             0.000          profile:0(profiler)\n",
            "\n",
            "\n",
            "         4 function calls in 0.000 seconds\n",
            "\n",
            "   Ordered by: standard name\n",
            "\n",
            "   ncalls  tottime  percall  cumtime  percall filename:lineno(function)\n",
            "        1    0.000    0.000    0.000    0.000 :0(exec)\n",
            "        1    0.000    0.000    0.000    0.000 :0(setprofile)\n",
            "        1    0.000    0.000    0.000    0.000 <string>:1(<module>)\n",
            "        1    0.000    0.000    0.000    0.000 profile:0(l2[-1:] = [42])\n",
            "        0    0.000             0.000          profile:0(profiler)\n",
            "\n",
            "\n"
          ]
        }
      ],
      "source": [
        "import profile\n",
        "import sys\n",
        "\n",
        "class IList2(list):\n",
        "    def __seti__(self, key, value):\n",
        "        print ('saving')\n",
        "        list.__seti__(self, key, value)\n",
        "    def __deli__(self, key):\n",
        "        print ('saving')\n",
        "        list.__delit__(self, key)\n",
        "\n",
        "l2 = IList2()\n",
        "l2.extend([1,2,3,4])\n",
        "profile.run(\"l2[3:] = [5]\")\n",
        "profile.run(\"l2[2:6] = [12,4]\")\n",
        "profile.run(\"l2[-1:] = [42]\")"
      ]
    },
    {
      "cell_type": "markdown",
      "source": [
        "Q4. in a class, how do you capture in-place addition?\n",
        "\n",
        "Python in its definition provides methods to perform inplace operations, i.e doing assignment and computation in a single statement using “operator” module. For example,\n",
        "\n",
        "x += y is equivalent to x = operator.iadd(x, y)\n",
        "\n",
        "iadd() function is used to assign and add the current value. This operation does “a+=b” operation. Assigning is not performed in case of immutable containers, such as strings, numbers and tuples."
      ],
      "metadata": {
        "id": "I7yV8mD4fhOM"
      }
    },
    {
      "cell_type": "code",
      "source": [
        "import operator\n",
        "a = 4\n",
        "b = 8\n",
        "ans = operator.iadd(a,b)\n",
        "print(ans)"
      ],
      "metadata": {
        "colab": {
          "base_uri": "https://localhost:8080/"
        },
        "id": "hUq7YDZ_fSK_",
        "outputId": "3db9bc02-8b39-4a08-b747-49b648939ef2"
      },
      "execution_count": 4,
      "outputs": [
        {
          "output_type": "stream",
          "name": "stdout",
          "text": [
            "12\n"
          ]
        }
      ]
    },
    {
      "cell_type": "markdown",
      "source": [
        "Q5. When is it appropriate to use operator overloading?\n",
        "\\\n",
        "When we have two objects which are a physical representation of a class (user-defined data type) and we have to add two objects with binary ‘+’ operator it throws an error, because compiler don’t know how to add two objects. So we define a method for an operator and that process is called operator overloading"
      ],
      "metadata": {
        "id": "pYWlss6yfysQ"
      }
    },
    {
      "cell_type": "code",
      "source": [
        ""
      ],
      "metadata": {
        "id": "87EaCSKOfmpe"
      },
      "execution_count": null,
      "outputs": []
    }
  ]
}
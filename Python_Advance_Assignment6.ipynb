{
  "nbformat": 4,
  "nbformat_minor": 0,
  "metadata": {
    "colab": {
      "name": "Python Advance Assignment6.ipynb",
      "provenance": [],
      "collapsed_sections": []
    },
    "kernelspec": {
      "name": "python3",
      "display_name": "Python 3"
    },
    "language_info": {
      "name": "python"
    }
  },
  "cells": [
    {
      "cell_type": "markdown",
      "source": [
        "Q1. Describe three applications for exception processing.\n",
        "\n",
        "Exceptions are raised when the program is syntactically correct, but the code resulted in an error. This error does not stop the execution of the program, however, it changes the normal flow of the program."
      ],
      "metadata": {
        "id": "1OtN_aPJnYwD"
      }
    },
    {
      "cell_type": "code",
      "execution_count": 1,
      "metadata": {
        "colab": {
          "base_uri": "https://localhost:8080/"
        },
        "id": "V1hl7NG7nWuS",
        "outputId": "be2d257e-a229-4c84-d267-6db6def19509"
      },
      "outputs": [
        {
          "output_type": "stream",
          "name": "stdout",
          "text": [
            "Enter a:4\n",
            "Enter b:0\n",
            "division by zero\n",
            "can't divide by zero\n"
          ]
        }
      ],
      "source": [
        "def div(a,b):   \n",
        "    try:        \n",
        "        c = a/b  \n",
        "        print(\"a/b = \",c)    \n",
        "    except Exception as e:    \n",
        "        print(e)  \n",
        "        return \"can't divide by zero\"\n",
        "    else:    \n",
        "        return \"code executed without exception\"\n",
        "a = int(input(\"Enter a:\"))    \n",
        "b = int(input(\"Enter b:\"))           \n",
        "print(div(a,b))"
      ]
    },
    {
      "cell_type": "markdown",
      "source": [
        "Q2. What happens if you don't do something extra to treat an exception?\n",
        "\n",
        "Whenever an exception occurs, the program stops the execution, and thus the further code is not executed. Therefore, an exception is the run-time errors that are unable to handle to Python script. An exception is a Python object that represents an error\n",
        "\n",
        "Q3. What are your options for recovering from an exception in your script?\n",
        "\n",
        "In except block, we write a code to handle exception and next set of actions."
      ],
      "metadata": {
        "id": "wG7HzzCMtmQ_"
      }
    },
    {
      "cell_type": "code",
      "source": [
        "def example():\n",
        "    while True:\n",
        "        try:\n",
        "            a = int(input('Enter integer::'))\n",
        "        except Exception as e:\n",
        "            print(e)\n",
        "            print('Enter integer:')\n",
        "            continue\n",
        "        else:\n",
        "            print(f' ineger {a}')\n",
        "            break\n",
        "        finally:\n",
        "            print('executed')       \n",
        "example() "
      ],
      "metadata": {
        "colab": {
          "base_uri": "https://localhost:8080/"
        },
        "id": "haQIoRm0sciW",
        "outputId": "b6788e31-81bb-4082-c54c-f5a0f3bf1f51"
      },
      "execution_count": 3,
      "outputs": [
        {
          "output_type": "stream",
          "name": "stdout",
          "text": [
            "Enter integer::4\n",
            " ineger 4\n",
            "executed\n"
          ]
        }
      ]
    },
    {
      "cell_type": "markdown",
      "source": [
        "Q4. Describe two methods for triggering exceptions in your script?\n",
        "\n",
        "*Try statement – This method throws the exceptions when the code within try is executed.\n",
        "\n",
        "*Raise – Triggers an exception manually using custom exceptions.\n",
        "\n",
        "\n",
        "Q5. Identify two methods for specifying actions to be executed at termination time, regardless of whether or not an exception exists.\n",
        "\n",
        "*In else block, code is written to handle if no exception is raised by code in try block.\n",
        "\n",
        "*In finally block, code executes regardless of whether or not an exception exists."
      ],
      "metadata": {
        "id": "ECqNxLXMuXVW"
      }
    },
    {
      "cell_type": "code",
      "source": [
        ""
      ],
      "metadata": {
        "id": "O4Cm2SGhuNrN"
      },
      "execution_count": null,
      "outputs": []
    }
  ]
}
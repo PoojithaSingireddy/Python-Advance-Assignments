{
  "nbformat": 4,
  "nbformat_minor": 0,
  "metadata": {
    "colab": {
      "name": "Python Advance Assignment3.ipynb",
      "provenance": [],
      "collapsed_sections": []
    },
    "kernelspec": {
      "name": "python3",
      "display_name": "Python 3"
    },
    "language_info": {
      "name": "python"
    }
  },
  "cells": [
    {
      "cell_type": "markdown",
      "source": [
        "Q1. What is the concept of an abstract superclass?\n",
        "\n",
        "A class is called an Abstract class if it contains one or more abstract methods. An abstract method is a method that is declared, but contains no implementation. Abstract classes may not be instantiated, and its abstract methods must be implemented by its subclasses"
      ],
      "metadata": {
        "id": "Pu4x6J47GcQm"
      }
    },
    {
      "cell_type": "code",
      "execution_count": 1,
      "metadata": {
        "colab": {
          "base_uri": "https://localhost:8080/"
        },
        "id": "6SEUCR7bGa9J",
        "outputId": "b9d2c4ac-8ade-46b8-b471-cd6dd6ae9df7"
      },
      "outputs": [
        {
          "output_type": "stream",
          "name": "stdout",
          "text": [
            "area:  200\n"
          ]
        }
      ],
      "source": [
        "import abc\n",
        "\n",
        "class Shape(metaclass=abc.ABCMeta):\n",
        "    @abc.abstractmethod\n",
        "    def area(self):\n",
        "        pass\n",
        "\n",
        "class Rectangle(Shape):\n",
        "    def __init__(self, x,y):\n",
        "        self.l = x\n",
        "        self.b=y\n",
        "    \n",
        "    def area(self):\n",
        "        return self.l*self.b\n",
        "    \n",
        "r = Rectangle(10,20)\n",
        "print ('area: ',r.area())"
      ]
    },
    {
      "cell_type": "markdown",
      "source": [
        "->The 'abc' module in Python library provides the infrastructure for defining custom abstract base classes.\n",
        "'abc' works by marking methods of the base class as abstract. This is done by @absttractmethod decorator. A concrete class which is a sub class of such abstract base class then implements the abstract base by overriding its abstract methods.\n",
        "\n",
        "->The abc module defines ABCMeta class which is a metaclass for defining abstract base class. Following example defines Shape class as an abstract base class using ABCMeta. The shape class has area() method decorated by abstractmethod.\n",
        "\n",
        "->A Rectangle class now uses above Shape class as its parent and implementing the abstract area() method. Since it is a concrete class, it can be instantiated and imlemented area() method can be called."
      ],
      "metadata": {
        "id": "Kgryh3sxHsyn"
      }
    },
    {
      "cell_type": "markdown",
      "source": [
        "Q2. What happens when a class statement's top level contains a basic assignment statement?\n",
        "\n",
        "When class statement's top level contains a basic assignment statement, it is considered as class attribute. Change in the value of class attribute will affect all the instances of the class."
      ],
      "metadata": {
        "id": "2tN4PBPcH3Hp"
      }
    },
    {
      "cell_type": "code",
      "source": [
        "class example:\n",
        "    sv = 123\n",
        "    \n",
        "    def __init__(self, v1):\n",
        "        self.v1 = v1\n",
        "        \n",
        "s = example(2)       \n",
        "s1 = example(3)\n",
        "\n",
        "print(s.sv)\n",
        "print(s.v1)\n",
        "print(s1.v1)\n",
        "\n",
        "example.sv = 567\n",
        "print(s.sv) \n",
        "print(s1.sv)"
      ],
      "metadata": {
        "colab": {
          "base_uri": "https://localhost:8080/"
        },
        "id": "sjuOI7qQHk76",
        "outputId": "690e0070-a9df-4775-89f0-e9cdf864e25e"
      },
      "execution_count": 2,
      "outputs": [
        {
          "output_type": "stream",
          "name": "stdout",
          "text": [
            "123\n",
            "2\n",
            "3\n",
            "567\n",
            "567\n"
          ]
        }
      ]
    },
    {
      "cell_type": "markdown",
      "source": [
        "Q3. Why does a class need to manually call a superclass's init method?\n",
        "\n",
        "By doing so,we can access those methods of the super-class (parent class) which have been overridden in a sub-class (child class) that inherits from it.\n",
        "\n",
        "Q4. How can you augment, instead of completely replacing, an inherited method?\n",
        "\n",
        "The way to do that in Python is by calling to the original version directly, with augmented arguments.\n",
        "\n",
        "Q5. How is the local scope of a class different from that of a function?\n",
        "\n",
        "In class, if the variable is declared without self then it is accessible within that function only, kinda local variable. However if it declared using self like self.variable_name = 'somevalue', then it is accessible via any object but not via the class name.\n",
        "\n",
        "Whereas, if a variable is declared within a function then it is a local variable and is accessible to that function only."
      ],
      "metadata": {
        "id": "cgiHpI7fIq2X"
      }
    },
    {
      "cell_type": "code",
      "source": [
        ""
      ],
      "metadata": {
        "id": "2kP8YZ6oIVVK"
      },
      "execution_count": null,
      "outputs": []
    }
  ]
}
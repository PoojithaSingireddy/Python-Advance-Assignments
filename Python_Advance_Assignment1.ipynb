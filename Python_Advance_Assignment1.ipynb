{
  "nbformat": 4,
  "nbformat_minor": 0,
  "metadata": {
    "colab": {
      "name": "Python Advance Assignment1.ipynb",
      "provenance": [],
      "collapsed_sections": []
    },
    "kernelspec": {
      "name": "python3",
      "display_name": "Python 3"
    },
    "language_info": {
      "name": "python"
    }
  },
  "cells": [
    {
      "cell_type": "markdown",
      "source": [
        "Q1. What is the purpose of Python's OOP?\n",
        "\n",
        "Provides a clear program structure and a clean code\n",
        "Facilitates easy maintenance and modification of existing code.\n",
        "Since the class is sharable, the code can be reused.\n",
        "Since the class is sharable, the code can be reused and many other such Advantages.\n",
        "\n",
        "Q2. Where does an inheritance search look for an attribute?\n",
        "\n",
        "Attribute fetches are simply tree searches. The term inheritance is applied because objects lower in a tree inherit attributes attached to objects higher in that tree. As the search proceeds from the bottom up, in a sense, the objects linked into a tree are the union of all the attributes defined in all their tree parents, all the way up the tree.\n",
        "\n",
        "Q3. How do you distinguish between a class object and an instance object?\n",
        "\n",
        "Objects and Instances are almost similar and are often used interchangeably but with a small difference. Object is a generic term , it is physically present but remains undiferrentiated. Instance is something that gives them a separate identity.\n",
        "\n",
        "Object is the physical entity for which memory is allocated. Object contains many instances.\n",
        "\n",
        "Instance : An instance is also the physical manifestation of a class that occupies memory and has data members.\n",
        "\n",
        "e.g. There is Class car, when I create c = car(), c is object. When we create different object with different specifications(car name, type, company) such as i10, i20, Creta, audi7 are called as instances which actually exists.\n",
        "\n",
        "Q4. What makes the first argument in a class’s method function special?\n",
        "\n",
        "Self represents the instance of the class. By using the “self” keyword we can access the attributes and methods of the class in python. It binds the attributes with the given arguments.The reason you need to use self. is because Python does not use the @ syntax to refer to instance attributes. Python decided to do methods in a way that makes the instance to which the method belongs be passed automatically, but not received automatically: the first parameter of methods is the instance the method is called on.\n",
        "\n",
        "Q5. What is the purpose of the init method?\n",
        "\n",
        "The task of init method is to initialize(assign values) to the data members of the class when an object of class is created. It contains collection of statements that are executed at time of Object creation. It is run as soon as an object of a class is instantiated. The method is useful to do any initialization you want to do with your object.\n",
        "\n",
        "Q6. What is the process for creating a class instance?\n",
        "\n",
        "To create instances of a class, you call the class using class name and pass in whatever arguments its init method accepts.\n",
        "\n",
        "Q7. What is the process for creating a class?\n",
        "\n",
        "The class statement creates a new class definition. The name of the class immediately follows the keyword class followed by a colon."
      ],
      "metadata": {
        "id": "2jF0YZCxS7ld"
      }
    },
    {
      "cell_type": "code",
      "execution_count": 1,
      "metadata": {
        "colab": {
          "base_uri": "https://localhost:8080/"
        },
        "id": "GhVi8dEmSpcw",
        "outputId": "a82fe8a0-dd2e-4166-a602-3a5a05b0ee28"
      },
      "outputs": [
        {
          "output_type": "stream",
          "name": "stdout",
          "text": [
            "This is ABC\n"
          ]
        }
      ],
      "source": [
        "class Student:\n",
        "    def __init__(self,name):\n",
        "        self.name = name\n",
        "    \n",
        "    def __str__(self):\n",
        "        return f\"This is {self.name}\"\n",
        "    \n",
        "s1 = Student(\"ABC\")       \n",
        "print(s1)"
      ]
    },
    {
      "cell_type": "markdown",
      "source": [
        "Q8. How would you define the superclasses of a class?\n",
        "\n",
        "A superclass is the class from which many subclasses can be created. The subclasses inherit the characteristics of a superclass. The superclass is also known as the parent class or base class."
      ],
      "metadata": {
        "id": "tDmW012XjyJk"
      }
    },
    {
      "cell_type": "code",
      "source": [
        "class A:\n",
        "    def mA(self):\n",
        "        return \"class A\"\n",
        "    \n",
        "class B(A):\n",
        "    def mB(self):\n",
        "        return \" class B\"\n",
        "\n",
        "class C(A):\n",
        "    def mB(self):\n",
        "        return \"class C\"\n",
        "    \n",
        "class D(A):\n",
        "    def mB(self):\n",
        "        return \"class D\"    \n",
        "a = A()\n",
        "b = B()\n",
        "c = C()\n",
        "d = D()\n",
        "\n",
        "print(a.mA())\n",
        "print(b.mB())\n",
        "print(b.mA())   \n",
        "print(c.mA())\n",
        "print(d.mA())"
      ],
      "metadata": {
        "colab": {
          "base_uri": "https://localhost:8080/"
        },
        "id": "pVtaa4v3T9k7",
        "outputId": "48e8f59b-5e2e-4e16-bc2f-a5a3c9e08564"
      },
      "execution_count": 2,
      "outputs": [
        {
          "output_type": "stream",
          "name": "stdout",
          "text": [
            "class A\n",
            " class B\n",
            "class A\n",
            "class A\n",
            "class A\n"
          ]
        }
      ]
    },
    {
      "cell_type": "code",
      "source": [
        ""
      ],
      "metadata": {
        "id": "5vjgT2RslhaP"
      },
      "execution_count": null,
      "outputs": []
    }
  ]
}
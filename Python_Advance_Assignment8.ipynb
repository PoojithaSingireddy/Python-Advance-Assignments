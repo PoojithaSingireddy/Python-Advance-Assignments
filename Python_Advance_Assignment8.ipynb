{
  "nbformat": 4,
  "nbformat_minor": 0,
  "metadata": {
    "colab": {
      "name": "Python Advance Assignment8.ipynb",
      "provenance": [],
      "collapsed_sections": []
    },
    "kernelspec": {
      "name": "python3",
      "display_name": "Python 3"
    },
    "language_info": {
      "name": "python"
    }
  },
  "cells": [
    {
      "cell_type": "markdown",
      "source": [
        "Q1. What are the two latest user-defined exception constraints in Python 3.X?\n",
        "\n",
        "1.raise statement - This is used to raise an inbuilt exception explicitly.\n",
        "\n",
        "2.assert statement - when condition in assert statement is true, program is executed normally. When condition is false, program gives an AssertionError.\n",
        "\n",
        "Q2. How are class-based exceptions that have been raised matched to handlers?\n",
        "\n",
        "When exceptions are raised, then the exception is handled by the same class mentioned in except statement or its base classes. \"Exception\" is the base class(Superclass) for all other exception classes.\n",
        "\n",
        "Q3. Describe two methods for attaching context information to exception artefacts.\n",
        "\n",
        "->By using logging.exception() method, we can log log messages with level ERROR on the logger. I will store the information like type of error, line number, file name and path.\n",
        "\n",
        "->By using raise keyword. It will also display Traceback of the recent exception raised."
      ],
      "metadata": {
        "id": "dAPjBT2XzLf_"
      }
    },
    {
      "cell_type": "code",
      "execution_count": 1,
      "metadata": {
        "colab": {
          "base_uri": "https://localhost:8080/",
          "height": 322
        },
        "id": "Abtny47xzH0G",
        "outputId": "faa919d6-fb0f-409f-ba75-7ed0bf966f0f"
      },
      "outputs": [
        {
          "output_type": "stream",
          "name": "stderr",
          "text": [
            "ERROR:root:division by zero\n",
            "Traceback (most recent call last):\n",
            "  File \"<ipython-input-1-ecac2bd4b516>\", line 4, in <module>\n",
            "    4/0\n",
            "ZeroDivisionError: division by zero\n"
          ]
        },
        {
          "output_type": "error",
          "ename": "ZeroDivisionError",
          "evalue": "ignored",
          "traceback": [
            "\u001b[0;31m---------------------------------------------------------------------------\u001b[0m",
            "\u001b[0;31mZeroDivisionError\u001b[0m                         Traceback (most recent call last)",
            "\u001b[0;32m<ipython-input-1-ecac2bd4b516>\u001b[0m in \u001b[0;36m<module>\u001b[0;34m()\u001b[0m\n\u001b[1;32m      2\u001b[0m \u001b[0;34m\u001b[0m\u001b[0m\n\u001b[1;32m      3\u001b[0m \u001b[0;32mtry\u001b[0m\u001b[0;34m:\u001b[0m\u001b[0;34m\u001b[0m\u001b[0;34m\u001b[0m\u001b[0m\n\u001b[0;32m----> 4\u001b[0;31m     \u001b[0;36m4\u001b[0m\u001b[0;34m/\u001b[0m\u001b[0;36m0\u001b[0m\u001b[0;34m\u001b[0m\u001b[0;34m\u001b[0m\u001b[0m\n\u001b[0m\u001b[1;32m      5\u001b[0m \u001b[0;32mexcept\u001b[0m \u001b[0mException\u001b[0m \u001b[0;32mas\u001b[0m \u001b[0me\u001b[0m\u001b[0;34m:\u001b[0m\u001b[0;34m\u001b[0m\u001b[0;34m\u001b[0m\u001b[0m\n\u001b[1;32m      6\u001b[0m     \u001b[0mlogging\u001b[0m\u001b[0;34m.\u001b[0m\u001b[0mexception\u001b[0m\u001b[0;34m(\u001b[0m\u001b[0me\u001b[0m\u001b[0;34m)\u001b[0m\u001b[0;34m\u001b[0m\u001b[0;34m\u001b[0m\u001b[0m\n",
            "\u001b[0;31mZeroDivisionError\u001b[0m: division by zero"
          ]
        }
      ],
      "source": [
        "import logging\n",
        "  \n",
        "try: \n",
        "    4/0\n",
        "except Exception as e: \n",
        "    logging.exception(e)\n",
        "    raise"
      ]
    },
    {
      "cell_type": "markdown",
      "source": [
        "Q4. Describe two methods for specifying the text of an exception object's error message.\n",
        "\n",
        "1.We can print the text of an exception, by using the object of an Exception class. We can access different attributes like messgae, args, traceback from that object.\n",
        "\n",
        "2.By using logging.error() method"
      ],
      "metadata": {
        "id": "Pved1pyVzjhH"
      }
    },
    {
      "cell_type": "markdown",
      "source": [
        "Q5. Why do you no longer use string-based exceptions?\n",
        "\n",
        "->In Python versions 1.5 and earlier, Exceptions were strings and not classes. Now all exceptions are classes, derived from the superclass BaseException. With classes it is more efficiently handled as classes have many useful features."
      ],
      "metadata": {
        "id": "THnDkcBSz5oI"
      }
    },
    {
      "cell_type": "code",
      "source": [
        ""
      ],
      "metadata": {
        "id": "ZxsEonSFzyr0"
      },
      "execution_count": null,
      "outputs": []
    }
  ]
}
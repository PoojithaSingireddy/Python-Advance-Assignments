{
  "nbformat": 4,
  "nbformat_minor": 0,
  "metadata": {
    "colab": {
      "name": "Python Advance Assignment5.ipynb",
      "provenance": [],
      "collapsed_sections": []
    },
    "kernelspec": {
      "name": "python3",
      "display_name": "Python 3"
    },
    "language_info": {
      "name": "python"
    }
  },
  "cells": [
    {
      "cell_type": "markdown",
      "source": [
        "Q1. What is the meaning of multiple inheritance?\n",
        "\n",
        "When a class is derived from more than one base class it is called multiple Inheritance. The derived class inherits all the features of the base case.\n",
        "\n",
        "Q2. What is the concept of delegation?\n",
        "\n",
        "->Delegation is an object oriented technique (also called a design pattern). Let's say you have an object x and want to change the behaviour of just one of its methods. You can create a new class that provides a new implementation of the method you're interested in changing and delegates all other methods to the corresponding method of x.\n",
        "\n",
        "->The delegation is accomplished via the getattr method; consult the language reference for more information about controlling attribute access.\n",
        "\n",
        "Q3. What is the concept of composition?\n",
        "\n",
        "It is one of the fundamental concepts of Object-Oriented Programming. A class that references to one or more objects of other classes as an Instance variable. Here, by using the class name or by creating the object we can access the members of one class inside another class. It enables creating complex types by combining objects of different classes. It means that a class Composite can contain an object of another class Component. This type of relationship is known as Has-A Relation.\n",
        "\n",
        "Q4. What are bound methods and how do we use them?\n",
        "\n",
        "A bound method is the one which is dependent on the instance of the class as the first argument. It passes the instance as the first argument which is used to access the variables and functions. All functions in the class are by default bound methods."
      ],
      "metadata": {
        "id": "KZiSYHayhMho"
      }
    },
    {
      "cell_type": "code",
      "execution_count": 1,
      "metadata": {
        "colab": {
          "base_uri": "https://localhost:8080/"
        },
        "id": "Yvr2h5IlhL0p",
        "outputId": "27d879a8-8a5b-43dd-ac10-b3358c6417f5"
      },
      "outputs": [
        {
          "output_type": "stream",
          "name": "stdout",
          "text": [
            "<bound method example.exa of <__main__.example object at 0x7fbc27330c50>>\n"
          ]
        }
      ],
      "source": [
        "class example:\n",
        "    def exa(self, sv):\n",
        "        self.sv = sv\n",
        "a = example()\n",
        "print(a.exa)"
      ]
    },
    {
      "cell_type": "markdown",
      "source": [
        "Q5. What is the purpose of pseudoprivate attributes?\n",
        "\n",
        "In Python, there is no concept of \"private\" as such. When naming properties and methods at the level, some special processing is actually done to the name, making it inaccessible to the outside world."
      ],
      "metadata": {
        "id": "KtnN5ZeshoiJ"
      }
    },
    {
      "cell_type": "code",
      "source": [
        "class Test:\n",
        "    def __init__(self, a, b, c, d):\n",
        "        self.__a = a\n",
        "        self.b = b\n",
        "        self.c = c\n",
        "        self.d = d\n",
        "\n",
        "    def custom(self, v):\n",
        "        return v - self.__a\n",
        "\n",
        "t = Test(1,2,3,4)    \n",
        "print(t._Test__a) \n",
        "print(t.b)\n",
        "print(t.custom(5))"
      ],
      "metadata": {
        "colab": {
          "base_uri": "https://localhost:8080/"
        },
        "id": "r2NhnI2Lhi28",
        "outputId": "09358a48-3adf-4ec3-c179-c516deee8d0a"
      },
      "execution_count": 2,
      "outputs": [
        {
          "output_type": "stream",
          "name": "stdout",
          "text": [
            "1\n",
            "2\n",
            "4\n"
          ]
        }
      ]
    },
    {
      "cell_type": "code",
      "source": [
        ""
      ],
      "metadata": {
        "id": "AF7mVwLDhx9l"
      },
      "execution_count": null,
      "outputs": []
    }
  ]
}
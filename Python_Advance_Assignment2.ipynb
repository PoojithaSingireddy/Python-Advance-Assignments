{
  "nbformat": 4,
  "nbformat_minor": 0,
  "metadata": {
    "colab": {
      "name": "Python Advance Assignment2.ipynb",
      "provenance": [],
      "collapsed_sections": []
    },
    "kernelspec": {
      "name": "python3",
      "display_name": "Python 3"
    },
    "language_info": {
      "name": "python"
    }
  },
  "cells": [
    {
      "cell_type": "markdown",
      "source": [
        "Q1. What is the relationship between classes and modules?\n",
        "\n",
        "Modules are about providing methods that you can use across multiple classes. Modules are about functions. You dont instantiate modules(e.g. Math module) you just use methods in them.Module is like library of methods. \n",
        "Classes are about objects; it can hold its state (by keeping track of instance variables) and be duplicated as many times as you want. \n",
        "\n",
        "Q2. How do you make instances and classes?\n",
        "\n",
        "To create instances of a class, you call the class using class name and pass in whatever arguments its init method accepts.\n",
        "\n",
        "The class statement creates a new class definition. The name of the class immediately follows the keyword class followed by a colon."
      ],
      "metadata": {
        "id": "okWuBIBzuNA3"
      }
    },
    {
      "cell_type": "code",
      "execution_count": null,
      "metadata": {
        "colab": {
          "base_uri": "https://localhost:8080/"
        },
        "id": "A-kZpfdMuIWG",
        "outputId": "a89fb7c9-adbd-4a6b-cfb3-29aab985e476"
      },
      "outputs": [
        {
          "output_type": "stream",
          "name": "stdout",
          "text": [
            "This is ABC\n"
          ]
        }
      ],
      "source": [
        "class Student:\n",
        "    def __init__(self,name):\n",
        "        self.name = name\n",
        "    \n",
        "    def __str__(self):\n",
        "        return f\"This is {self.name}\"\n",
        "    \n",
        "student1 = Student(\"ABC\")       \n",
        "print(student1)"
      ]
    },
    {
      "cell_type": "markdown",
      "source": [
        "Q3. Where and how should be class attributes created?\n",
        "\n",
        "Class attributes belong to the class itself they will be shared by all the instances. Such attributes are defined in the class body parts usually at the top, for legibility"
      ],
      "metadata": {
        "id": "jGHFe6YXvyug"
      }
    },
    {
      "cell_type": "code",
      "source": [
        "class Student:\n",
        "    ct = 'xyz'\n",
        "    \n",
        "    def __init__(self,na, rno): \n",
        "        self.na = na \n",
        "        self.rno = rno\n",
        "    \n",
        "    def __str__(self):\n",
        "        return f\"This is {self.na}\"\n",
        "    \n",
        "st1 = Student(\"ABC\",5)  \n",
        "\n",
        "print(st1.ct) "
      ],
      "metadata": {
        "id": "ZpHzPhjPu3tR",
        "colab": {
          "base_uri": "https://localhost:8080/"
        },
        "outputId": "44b39675-099d-4f4b-ac92-66e949a7308c"
      },
      "execution_count": 1,
      "outputs": [
        {
          "output_type": "stream",
          "name": "stdout",
          "text": [
            "xyz\n"
          ]
        }
      ]
    },
    {
      "cell_type": "markdown",
      "source": [
        "Q4. Where and how are instance attributes created?\n",
        "\n",
        "Unlike class attributes, instance attributes are not shared by objects. Every object has its own copy of the instance attribute. They are created in init method. "
      ],
      "metadata": {
        "id": "P_fLGLFOAnj-"
      }
    },
    {
      "cell_type": "code",
      "source": [
        "class Student:\n",
        "    ct = 'xyz'\n",
        "    \n",
        "    def __init__(self,na, rno): \n",
        "        self.na = na \n",
        "        self.rno = rno\n",
        "    \n",
        "    def __str__(self):\n",
        "        return f\"This is {self.na}\"\n",
        "    \n",
        "st1 = Student(\"ABC\",5)  \n",
        "\n",
        "print(st1.ct) \n",
        "print(st1.rno)"
      ],
      "metadata": {
        "colab": {
          "base_uri": "https://localhost:8080/"
        },
        "id": "kzsVSeK0AbfT",
        "outputId": "3ea05764-a4ca-4712-ca30-6855f13069b7"
      },
      "execution_count": 2,
      "outputs": [
        {
          "output_type": "stream",
          "name": "stdout",
          "text": [
            "xyz\n",
            "5\n"
          ]
        }
      ]
    },
    {
      "cell_type": "markdown",
      "source": [
        "Q5. What does the term \"self\" in a Python class mean?\n",
        "\n",
        "Self represents the instance of the class. By using the “self” keyword we can access the attributes and methods of the class in python. It binds the attributes with the given arguments.The reason you need to use self. is because Python does not use the @ syntax to refer to instance attributes. Python decided to do methods in a way that makes the instance to which the method belongs be passed automatically, but not received automatically: the first parameter of methods is the instance the method is called on.\n",
        "\n",
        "Q6. How does a Python class handle operator overloading?\n",
        "\n",
        "Operator Overloading means giving extended meaning beyond their predefined operational meaning. For example operator + is used to add two integers as well as join two strings and merge two lists. It is achievable because ‘+’ operator is overloaded by int class and str class."
      ],
      "metadata": {
        "id": "hKh9isdAA2Wl"
      }
    },
    {
      "cell_type": "code",
      "source": [
        "print(1 + 2)\n",
        "print(\"ab\"+\"cd\")\n",
        "print(1 * 3)\n",
        "print(\"A\"*3)"
      ],
      "metadata": {
        "colab": {
          "base_uri": "https://localhost:8080/"
        },
        "id": "psiPZb4BA0fF",
        "outputId": "025d4b8d-e00e-4b7c-8ac7-448133716280"
      },
      "execution_count": 3,
      "outputs": [
        {
          "output_type": "stream",
          "name": "stdout",
          "text": [
            "3\n",
            "abcd\n",
            "3\n",
            "AAA\n"
          ]
        }
      ]
    },
    {
      "cell_type": "markdown",
      "source": [
        "Q7. When do you consider allowing operator overloading of your classes?\n",
        "\n",
        "Let us assume we have an object called string1 which is a string object as defined below. Now, when we try to add a string to this string object, the compiler will throw an error. This is because the compiler doesn't know how to add them."
      ],
      "metadata": {
        "id": "zbZDDQcuDGwk"
      }
    },
    {
      "cell_type": "code",
      "source": [
        "class String:\n",
        "    def __init__(self, string):\n",
        "            self.string = string         \n",
        "    def __repr__(self):\n",
        "        return 'Object: {}'.format(self.string)\n",
        "string1 = String('Hello')    \n",
        "print(string1 +' world')"
      ],
      "metadata": {
        "colab": {
          "base_uri": "https://localhost:8080/",
          "height": 200
        },
        "id": "piJrZvwrCjbR",
        "outputId": "8a5325d3-9c58-406b-fad8-1827b8b7366d"
      },
      "execution_count": 4,
      "outputs": [
        {
          "output_type": "error",
          "ename": "TypeError",
          "evalue": "ignored",
          "traceback": [
            "\u001b[0;31m---------------------------------------------------------------------------\u001b[0m",
            "\u001b[0;31mTypeError\u001b[0m                                 Traceback (most recent call last)",
            "\u001b[0;32m<ipython-input-4-476c8075b2fa>\u001b[0m in \u001b[0;36m<module>\u001b[0;34m()\u001b[0m\n\u001b[1;32m      5\u001b[0m         \u001b[0;32mreturn\u001b[0m \u001b[0;34m'Object: {}'\u001b[0m\u001b[0;34m.\u001b[0m\u001b[0mformat\u001b[0m\u001b[0;34m(\u001b[0m\u001b[0mself\u001b[0m\u001b[0;34m.\u001b[0m\u001b[0mstring\u001b[0m\u001b[0;34m)\u001b[0m\u001b[0;34m\u001b[0m\u001b[0;34m\u001b[0m\u001b[0m\n\u001b[1;32m      6\u001b[0m \u001b[0mstring1\u001b[0m \u001b[0;34m=\u001b[0m \u001b[0mString\u001b[0m\u001b[0;34m(\u001b[0m\u001b[0;34m'Hello'\u001b[0m\u001b[0;34m)\u001b[0m\u001b[0;34m\u001b[0m\u001b[0;34m\u001b[0m\u001b[0m\n\u001b[0;32m----> 7\u001b[0;31m \u001b[0mprint\u001b[0m\u001b[0;34m(\u001b[0m\u001b[0mstring1\u001b[0m \u001b[0;34m+\u001b[0m\u001b[0;34m' world'\u001b[0m\u001b[0;34m)\u001b[0m\u001b[0;34m\u001b[0m\u001b[0;34m\u001b[0m\u001b[0m\n\u001b[0m",
            "\u001b[0;31mTypeError\u001b[0m: unsupported operand type(s) for +: 'String' and 'str'"
          ]
        }
      ]
    },
    {
      "cell_type": "code",
      "source": [
        "# This error can be avoided by adding the add method to the String class.\n",
        "# This way, we are overloading the + operator to concatenate a string object with a string.\n",
        "class String:\n",
        "    def __init__(self, string):\n",
        "            self.string = string         \n",
        "                \n",
        "    def __add__(self, other):\n",
        "          return self.string + other\n",
        "            \n",
        "    def __repr__(self):\n",
        "        return 'Object: {}'.format(self.string)\n",
        "\n",
        "string1 = String('Hello')    \n",
        "print(string1 +' world')"
      ],
      "metadata": {
        "colab": {
          "base_uri": "https://localhost:8080/"
        },
        "id": "dS5oXQ_OE_xc",
        "outputId": "e4b54b22-ad3d-416f-9b0c-49887e53dfb4"
      },
      "execution_count": 5,
      "outputs": [
        {
          "output_type": "stream",
          "name": "stdout",
          "text": [
            "Hello world\n"
          ]
        }
      ]
    },
    {
      "cell_type": "markdown",
      "source": [
        "Q8. What is the most popular form of operator overloading?\n",
        "\n",
        "I feel, most popular form of operator overloading is of addition (+) operator. When two integers are passed to + operator, it will return the sum of two integers. When two strings are passed to + operator, it will return concatenation of two strings.\n",
        "\n",
        "Q9. What are the two most important concepts to grasp in order to comprehend Python OOP code?\n",
        "\n",
        "Inheritance.\n",
        "Polymorphism."
      ],
      "metadata": {
        "id": "RsR6NsCsFOvl"
      }
    },
    {
      "cell_type": "code",
      "source": [
        ""
      ],
      "metadata": {
        "id": "WYVLwqseFHF5"
      },
      "execution_count": null,
      "outputs": []
    }
  ]
}